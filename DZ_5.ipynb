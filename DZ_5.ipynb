{
  "nbformat": 4,
  "nbformat_minor": 0,
  "metadata": {
    "colab": {
      "provenance": [],
      "mount_file_id": "1sSUCH0QaYrYUy31i69AiZp5tbIGJD3J9",
      "authorship_tag": "ABX9TyMlMjag8Rm+NOudq9lZkKGr",
      "include_colab_link": true
    },
    "kernelspec": {
      "name": "python3",
      "display_name": "Python 3"
    },
    "language_info": {
      "name": "python"
    }
  },
  "cells": [
    {
      "cell_type": "markdown",
      "metadata": {
        "id": "view-in-github",
        "colab_type": "text"
      },
      "source": [
        "<a href=\"https://colab.research.google.com/github/DanyaFire/StatPrac/blob/main/DZ_5.ipynb\" target=\"_parent\"><img src=\"https://colab.research.google.com/assets/colab-badge.svg\" alt=\"Open In Colab\"/></a>"
      ]
    },
    {
      "cell_type": "code",
      "execution_count": 1,
      "metadata": {
        "colab": {
          "base_uri": "https://localhost:8080/",
          "height": 256
        },
        "id": "ad6ZNaPiOKw6",
        "outputId": "de495ac8-04c1-4aba-d7b6-b3e1d1773f6e"
      },
      "outputs": [
        {
          "output_type": "execute_result",
          "data": {
            "text/plain": [
              "      0    1   2    3   4     5    6    7    8     9  ...  45  46  47  48  49  \\\n",
              "0  2683  333  35   30  26  2743  121  173  179  6572  ...   0   0   0   0   0   \n",
              "1  2915   90   8  216  11  4433  232  228  129  4019  ...   0   0   0   0   0   \n",
              "2  2941  162   7  698  76  2783  227  242  148  1784  ...   0   0   0   0   0   \n",
              "3  3096   60  17  170   3  3303  231  202   99  5370  ...   0   0   0   0   0   \n",
              "4  2999   66   8  488  37  1532  228  225  131  2290  ...   0   0   0   0   0   \n",
              "\n",
              "   50  51  52  53  54  \n",
              "0   0   0   0   0   2  \n",
              "1   0   0   0   0   1  \n",
              "2   0   0   0   0   2  \n",
              "3   0   0   0   0   1  \n",
              "4   0   0   0   0   2  \n",
              "\n",
              "[5 rows x 55 columns]"
            ],
            "text/html": [
              "\n",
              "  <div id=\"df-51a1c223-91ff-475d-9988-6b7ef163e4ab\" class=\"colab-df-container\">\n",
              "    <div>\n",
              "<style scoped>\n",
              "    .dataframe tbody tr th:only-of-type {\n",
              "        vertical-align: middle;\n",
              "    }\n",
              "\n",
              "    .dataframe tbody tr th {\n",
              "        vertical-align: top;\n",
              "    }\n",
              "\n",
              "    .dataframe thead th {\n",
              "        text-align: right;\n",
              "    }\n",
              "</style>\n",
              "<table border=\"1\" class=\"dataframe\">\n",
              "  <thead>\n",
              "    <tr style=\"text-align: right;\">\n",
              "      <th></th>\n",
              "      <th>0</th>\n",
              "      <th>1</th>\n",
              "      <th>2</th>\n",
              "      <th>3</th>\n",
              "      <th>4</th>\n",
              "      <th>5</th>\n",
              "      <th>6</th>\n",
              "      <th>7</th>\n",
              "      <th>8</th>\n",
              "      <th>9</th>\n",
              "      <th>...</th>\n",
              "      <th>45</th>\n",
              "      <th>46</th>\n",
              "      <th>47</th>\n",
              "      <th>48</th>\n",
              "      <th>49</th>\n",
              "      <th>50</th>\n",
              "      <th>51</th>\n",
              "      <th>52</th>\n",
              "      <th>53</th>\n",
              "      <th>54</th>\n",
              "    </tr>\n",
              "  </thead>\n",
              "  <tbody>\n",
              "    <tr>\n",
              "      <th>0</th>\n",
              "      <td>2683</td>\n",
              "      <td>333</td>\n",
              "      <td>35</td>\n",
              "      <td>30</td>\n",
              "      <td>26</td>\n",
              "      <td>2743</td>\n",
              "      <td>121</td>\n",
              "      <td>173</td>\n",
              "      <td>179</td>\n",
              "      <td>6572</td>\n",
              "      <td>...</td>\n",
              "      <td>0</td>\n",
              "      <td>0</td>\n",
              "      <td>0</td>\n",
              "      <td>0</td>\n",
              "      <td>0</td>\n",
              "      <td>0</td>\n",
              "      <td>0</td>\n",
              "      <td>0</td>\n",
              "      <td>0</td>\n",
              "      <td>2</td>\n",
              "    </tr>\n",
              "    <tr>\n",
              "      <th>1</th>\n",
              "      <td>2915</td>\n",
              "      <td>90</td>\n",
              "      <td>8</td>\n",
              "      <td>216</td>\n",
              "      <td>11</td>\n",
              "      <td>4433</td>\n",
              "      <td>232</td>\n",
              "      <td>228</td>\n",
              "      <td>129</td>\n",
              "      <td>4019</td>\n",
              "      <td>...</td>\n",
              "      <td>0</td>\n",
              "      <td>0</td>\n",
              "      <td>0</td>\n",
              "      <td>0</td>\n",
              "      <td>0</td>\n",
              "      <td>0</td>\n",
              "      <td>0</td>\n",
              "      <td>0</td>\n",
              "      <td>0</td>\n",
              "      <td>1</td>\n",
              "    </tr>\n",
              "    <tr>\n",
              "      <th>2</th>\n",
              "      <td>2941</td>\n",
              "      <td>162</td>\n",
              "      <td>7</td>\n",
              "      <td>698</td>\n",
              "      <td>76</td>\n",
              "      <td>2783</td>\n",
              "      <td>227</td>\n",
              "      <td>242</td>\n",
              "      <td>148</td>\n",
              "      <td>1784</td>\n",
              "      <td>...</td>\n",
              "      <td>0</td>\n",
              "      <td>0</td>\n",
              "      <td>0</td>\n",
              "      <td>0</td>\n",
              "      <td>0</td>\n",
              "      <td>0</td>\n",
              "      <td>0</td>\n",
              "      <td>0</td>\n",
              "      <td>0</td>\n",
              "      <td>2</td>\n",
              "    </tr>\n",
              "    <tr>\n",
              "      <th>3</th>\n",
              "      <td>3096</td>\n",
              "      <td>60</td>\n",
              "      <td>17</td>\n",
              "      <td>170</td>\n",
              "      <td>3</td>\n",
              "      <td>3303</td>\n",
              "      <td>231</td>\n",
              "      <td>202</td>\n",
              "      <td>99</td>\n",
              "      <td>5370</td>\n",
              "      <td>...</td>\n",
              "      <td>0</td>\n",
              "      <td>0</td>\n",
              "      <td>0</td>\n",
              "      <td>0</td>\n",
              "      <td>0</td>\n",
              "      <td>0</td>\n",
              "      <td>0</td>\n",
              "      <td>0</td>\n",
              "      <td>0</td>\n",
              "      <td>1</td>\n",
              "    </tr>\n",
              "    <tr>\n",
              "      <th>4</th>\n",
              "      <td>2999</td>\n",
              "      <td>66</td>\n",
              "      <td>8</td>\n",
              "      <td>488</td>\n",
              "      <td>37</td>\n",
              "      <td>1532</td>\n",
              "      <td>228</td>\n",
              "      <td>225</td>\n",
              "      <td>131</td>\n",
              "      <td>2290</td>\n",
              "      <td>...</td>\n",
              "      <td>0</td>\n",
              "      <td>0</td>\n",
              "      <td>0</td>\n",
              "      <td>0</td>\n",
              "      <td>0</td>\n",
              "      <td>0</td>\n",
              "      <td>0</td>\n",
              "      <td>0</td>\n",
              "      <td>0</td>\n",
              "      <td>2</td>\n",
              "    </tr>\n",
              "  </tbody>\n",
              "</table>\n",
              "<p>5 rows × 55 columns</p>\n",
              "</div>\n",
              "    <div class=\"colab-df-buttons\">\n",
              "\n",
              "  <div class=\"colab-df-container\">\n",
              "    <button class=\"colab-df-convert\" onclick=\"convertToInteractive('df-51a1c223-91ff-475d-9988-6b7ef163e4ab')\"\n",
              "            title=\"Convert this dataframe to an interactive table.\"\n",
              "            style=\"display:none;\">\n",
              "\n",
              "  <svg xmlns=\"http://www.w3.org/2000/svg\" height=\"24px\" viewBox=\"0 -960 960 960\">\n",
              "    <path d=\"M120-120v-720h720v720H120Zm60-500h600v-160H180v160Zm220 220h160v-160H400v160Zm0 220h160v-160H400v160ZM180-400h160v-160H180v160Zm440 0h160v-160H620v160ZM180-180h160v-160H180v160Zm440 0h160v-160H620v160Z\"/>\n",
              "  </svg>\n",
              "    </button>\n",
              "\n",
              "  <style>\n",
              "    .colab-df-container {\n",
              "      display:flex;\n",
              "      gap: 12px;\n",
              "    }\n",
              "\n",
              "    .colab-df-convert {\n",
              "      background-color: #E8F0FE;\n",
              "      border: none;\n",
              "      border-radius: 50%;\n",
              "      cursor: pointer;\n",
              "      display: none;\n",
              "      fill: #1967D2;\n",
              "      height: 32px;\n",
              "      padding: 0 0 0 0;\n",
              "      width: 32px;\n",
              "    }\n",
              "\n",
              "    .colab-df-convert:hover {\n",
              "      background-color: #E2EBFA;\n",
              "      box-shadow: 0px 1px 2px rgba(60, 64, 67, 0.3), 0px 1px 3px 1px rgba(60, 64, 67, 0.15);\n",
              "      fill: #174EA6;\n",
              "    }\n",
              "\n",
              "    .colab-df-buttons div {\n",
              "      margin-bottom: 4px;\n",
              "    }\n",
              "\n",
              "    [theme=dark] .colab-df-convert {\n",
              "      background-color: #3B4455;\n",
              "      fill: #D2E3FC;\n",
              "    }\n",
              "\n",
              "    [theme=dark] .colab-df-convert:hover {\n",
              "      background-color: #434B5C;\n",
              "      box-shadow: 0px 1px 3px 1px rgba(0, 0, 0, 0.15);\n",
              "      filter: drop-shadow(0px 1px 2px rgba(0, 0, 0, 0.3));\n",
              "      fill: #FFFFFF;\n",
              "    }\n",
              "  </style>\n",
              "\n",
              "    <script>\n",
              "      const buttonEl =\n",
              "        document.querySelector('#df-51a1c223-91ff-475d-9988-6b7ef163e4ab button.colab-df-convert');\n",
              "      buttonEl.style.display =\n",
              "        google.colab.kernel.accessAllowed ? 'block' : 'none';\n",
              "\n",
              "      async function convertToInteractive(key) {\n",
              "        const element = document.querySelector('#df-51a1c223-91ff-475d-9988-6b7ef163e4ab');\n",
              "        const dataTable =\n",
              "          await google.colab.kernel.invokeFunction('convertToInteractive',\n",
              "                                                    [key], {});\n",
              "        if (!dataTable) return;\n",
              "\n",
              "        const docLinkHtml = 'Like what you see? Visit the ' +\n",
              "          '<a target=\"_blank\" href=https://colab.research.google.com/notebooks/data_table.ipynb>data table notebook</a>'\n",
              "          + ' to learn more about interactive tables.';\n",
              "        element.innerHTML = '';\n",
              "        dataTable['output_type'] = 'display_data';\n",
              "        await google.colab.output.renderOutput(dataTable, element);\n",
              "        const docLink = document.createElement('div');\n",
              "        docLink.innerHTML = docLinkHtml;\n",
              "        element.appendChild(docLink);\n",
              "      }\n",
              "    </script>\n",
              "  </div>\n",
              "\n",
              "\n",
              "<div id=\"df-dd006ff4-6f8c-4d65-a332-a327d20b53aa\">\n",
              "  <button class=\"colab-df-quickchart\" onclick=\"quickchart('df-dd006ff4-6f8c-4d65-a332-a327d20b53aa')\"\n",
              "            title=\"Suggest charts\"\n",
              "            style=\"display:none;\">\n",
              "\n",
              "<svg xmlns=\"http://www.w3.org/2000/svg\" height=\"24px\"viewBox=\"0 0 24 24\"\n",
              "     width=\"24px\">\n",
              "    <g>\n",
              "        <path d=\"M19 3H5c-1.1 0-2 .9-2 2v14c0 1.1.9 2 2 2h14c1.1 0 2-.9 2-2V5c0-1.1-.9-2-2-2zM9 17H7v-7h2v7zm4 0h-2V7h2v10zm4 0h-2v-4h2v4z\"/>\n",
              "    </g>\n",
              "</svg>\n",
              "  </button>\n",
              "\n",
              "<style>\n",
              "  .colab-df-quickchart {\n",
              "      --bg-color: #E8F0FE;\n",
              "      --fill-color: #1967D2;\n",
              "      --hover-bg-color: #E2EBFA;\n",
              "      --hover-fill-color: #174EA6;\n",
              "      --disabled-fill-color: #AAA;\n",
              "      --disabled-bg-color: #DDD;\n",
              "  }\n",
              "\n",
              "  [theme=dark] .colab-df-quickchart {\n",
              "      --bg-color: #3B4455;\n",
              "      --fill-color: #D2E3FC;\n",
              "      --hover-bg-color: #434B5C;\n",
              "      --hover-fill-color: #FFFFFF;\n",
              "      --disabled-bg-color: #3B4455;\n",
              "      --disabled-fill-color: #666;\n",
              "  }\n",
              "\n",
              "  .colab-df-quickchart {\n",
              "    background-color: var(--bg-color);\n",
              "    border: none;\n",
              "    border-radius: 50%;\n",
              "    cursor: pointer;\n",
              "    display: none;\n",
              "    fill: var(--fill-color);\n",
              "    height: 32px;\n",
              "    padding: 0;\n",
              "    width: 32px;\n",
              "  }\n",
              "\n",
              "  .colab-df-quickchart:hover {\n",
              "    background-color: var(--hover-bg-color);\n",
              "    box-shadow: 0 1px 2px rgba(60, 64, 67, 0.3), 0 1px 3px 1px rgba(60, 64, 67, 0.15);\n",
              "    fill: var(--button-hover-fill-color);\n",
              "  }\n",
              "\n",
              "  .colab-df-quickchart-complete:disabled,\n",
              "  .colab-df-quickchart-complete:disabled:hover {\n",
              "    background-color: var(--disabled-bg-color);\n",
              "    fill: var(--disabled-fill-color);\n",
              "    box-shadow: none;\n",
              "  }\n",
              "\n",
              "  .colab-df-spinner {\n",
              "    border: 2px solid var(--fill-color);\n",
              "    border-color: transparent;\n",
              "    border-bottom-color: var(--fill-color);\n",
              "    animation:\n",
              "      spin 1s steps(1) infinite;\n",
              "  }\n",
              "\n",
              "  @keyframes spin {\n",
              "    0% {\n",
              "      border-color: transparent;\n",
              "      border-bottom-color: var(--fill-color);\n",
              "      border-left-color: var(--fill-color);\n",
              "    }\n",
              "    20% {\n",
              "      border-color: transparent;\n",
              "      border-left-color: var(--fill-color);\n",
              "      border-top-color: var(--fill-color);\n",
              "    }\n",
              "    30% {\n",
              "      border-color: transparent;\n",
              "      border-left-color: var(--fill-color);\n",
              "      border-top-color: var(--fill-color);\n",
              "      border-right-color: var(--fill-color);\n",
              "    }\n",
              "    40% {\n",
              "      border-color: transparent;\n",
              "      border-right-color: var(--fill-color);\n",
              "      border-top-color: var(--fill-color);\n",
              "    }\n",
              "    60% {\n",
              "      border-color: transparent;\n",
              "      border-right-color: var(--fill-color);\n",
              "    }\n",
              "    80% {\n",
              "      border-color: transparent;\n",
              "      border-right-color: var(--fill-color);\n",
              "      border-bottom-color: var(--fill-color);\n",
              "    }\n",
              "    90% {\n",
              "      border-color: transparent;\n",
              "      border-bottom-color: var(--fill-color);\n",
              "    }\n",
              "  }\n",
              "</style>\n",
              "\n",
              "  <script>\n",
              "    async function quickchart(key) {\n",
              "      const quickchartButtonEl =\n",
              "        document.querySelector('#' + key + ' button');\n",
              "      quickchartButtonEl.disabled = true;  // To prevent multiple clicks.\n",
              "      quickchartButtonEl.classList.add('colab-df-spinner');\n",
              "      try {\n",
              "        const charts = await google.colab.kernel.invokeFunction(\n",
              "            'suggestCharts', [key], {});\n",
              "      } catch (error) {\n",
              "        console.error('Error during call to suggestCharts:', error);\n",
              "      }\n",
              "      quickchartButtonEl.classList.remove('colab-df-spinner');\n",
              "      quickchartButtonEl.classList.add('colab-df-quickchart-complete');\n",
              "    }\n",
              "    (() => {\n",
              "      let quickchartButtonEl =\n",
              "        document.querySelector('#df-dd006ff4-6f8c-4d65-a332-a327d20b53aa button');\n",
              "      quickchartButtonEl.style.display =\n",
              "        google.colab.kernel.accessAllowed ? 'block' : 'none';\n",
              "    })();\n",
              "  </script>\n",
              "</div>\n",
              "    </div>\n",
              "  </div>\n"
            ],
            "application/vnd.google.colaboratory.intrinsic+json": {
              "type": "dataframe",
              "variable_name": "data"
            }
          },
          "metadata": {},
          "execution_count": 1
        }
      ],
      "source": [
        "import numpy as np\n",
        "import pandas as pd\n",
        "\n",
        "from sklearn.metrics import accuracy_score\n",
        "from sklearn.model_selection import GridSearchCV, train_test_split\n",
        "from sklearn.neighbors import KNeighborsClassifier\n",
        "from sklearn.linear_model import LogisticRegression\n",
        "\n",
        "# Загрузим датасет\n",
        "data = pd.read_csv('/content/drive/MyDrive/Python_KDA/forest_dataset.csv')\n",
        "data.head()"
      ]
    },
    {
      "cell_type": "markdown",
      "source": [
        "Дальше выделим метки и признаки."
      ],
      "metadata": {
        "id": "O1a5jfRGUeys"
      }
    },
    {
      "cell_type": "code",
      "source": [
        "labels = data[data.columns[-1]].values\n",
        "feature_matrix = data[data.columns[:-1]].values"
      ],
      "metadata": {
        "id": "xFSTP2mUUmNj"
      },
      "execution_count": 2,
      "outputs": []
    },
    {
      "cell_type": "markdown",
      "source": [
        "Разделим данные на тестовую и обучающую части."
      ],
      "metadata": {
        "id": "dwoudY0KWWHd"
      }
    },
    {
      "cell_type": "code",
      "source": [
        "train_feature_matrix, test_feature_matrix, train_labels, test_labels = train_test_split(feature_matrix, labels, test_size = 0.2, random_state = 42)"
      ],
      "metadata": {
        "id": "HL3A_aLDWXvL"
      },
      "execution_count": 3,
      "outputs": []
    },
    {
      "cell_type": "markdown",
      "source": [
        "Обучаем модель kNN:"
      ],
      "metadata": {
        "id": "RGRVsnYqXvzb"
      }
    },
    {
      "cell_type": "code",
      "source": [
        "clf = KNeighborsClassifier(n_neighbors = 7, weights = \"uniform\", metric = \"euclidean\")\n",
        "clf.fit(train_feature_matrix, train_labels)\n",
        "y_pred = clf.predict(test_feature_matrix)"
      ],
      "metadata": {
        "id": "Q9TJWaK3X0oQ"
      },
      "execution_count": 4,
      "outputs": []
    },
    {
      "cell_type": "markdown",
      "source": [
        "Определим точность предсказанных значений."
      ],
      "metadata": {
        "id": "WSbPLKpkbaX7"
      }
    },
    {
      "cell_type": "code",
      "source": [
        "print(f'Predict accuracy: {round(accuracy_score(test_labels, y_pred) * 100)}%')"
      ],
      "metadata": {
        "colab": {
          "base_uri": "https://localhost:8080/"
        },
        "id": "yv8Bco4QbsR3",
        "outputId": "a0df5861-4338-43a9-da60-e33815e4b054"
      },
      "execution_count": 5,
      "outputs": [
        {
          "output_type": "stream",
          "name": "stdout",
          "text": [
            "Predict accuracy: 73%\n"
          ]
        }
      ]
    },
    {
      "cell_type": "markdown",
      "source": [
        "Введём экзогенные переменные (параметры) модели: число соседей, пару метрик: евклидову и манхэттэнскую, а также по-разному будем рассчитывать веса: равномерно и в зависимости от дистанции."
      ],
      "metadata": {
        "id": "pKDZYBjLoiEH"
      }
    },
    {
      "cell_type": "code",
      "source": [
        "ekzo = {'n_neighbors': np.arange(1,11),\n",
        "        'weights': ['uniform', 'distance'],\n",
        "        'metric': ['euclidean', 'manhattan']}\n",
        "clf = KNeighborsClassifier()\n",
        "clf_grid = GridSearchCV(clf, ekzo, cv = 5, scoring = 'accuracy', n_jobs = -1)\n",
        "_ = clf_grid.fit(train_feature_matrix, train_labels)"
      ],
      "metadata": {
        "id": "BOVfct-op6FD"
      },
      "execution_count": 6,
      "outputs": []
    },
    {
      "cell_type": "markdown",
      "source": [
        "Выведу параметры отдельно, чтобы не запускать каждый раз часть кода, которая запускатся минуту..."
      ],
      "metadata": {
        "id": "5aXsFJTlwYBY"
      }
    },
    {
      "cell_type": "code",
      "source": [
        "clf_grid.best_params_"
      ],
      "metadata": {
        "colab": {
          "base_uri": "https://localhost:8080/"
        },
        "id": "CEuDfEBEwgYe",
        "outputId": "c4337755-2bbe-424e-a08c-ed7ac97a6339"
      },
      "execution_count": 7,
      "outputs": [
        {
          "output_type": "execute_result",
          "data": {
            "text/plain": [
              "{'metric': 'manhattan', 'n_neighbors': np.int64(4), 'weights': 'distance'}"
            ]
          },
          "metadata": {},
          "execution_count": 7
        }
      ]
    },
    {
      "cell_type": "markdown",
      "source": [
        "Вычислим вероятности принадлежности к классам для тестовой выборки. Для этого используем оптимальное количество соседей, которое мы нашли ранее."
      ],
      "metadata": {
        "id": "f82Pmu4-wyYZ"
      }
    },
    {
      "cell_type": "code",
      "source": [
        "opt_clf = KNeighborsClassifier(**clf_grid.best_params_) # Передаём отдельные именованные аргументы\n",
        "opt_clf.fit(train_feature_matrix, train_labels) # Обучаем классификатор на тренировочной выборке\n",
        "pred_probability = opt_clf.predict_proba(test_feature_matrix) # Предсказание вероятности принадлежности тестовой выборки к классам\n",
        "print(\"Probabilities of belongs to classes for the test sample:\", pred_probability, sep = '\\n')"
      ],
      "metadata": {
        "colab": {
          "base_uri": "https://localhost:8080/"
        },
        "id": "rvvRvhdAxFrp",
        "outputId": "c39532ab-972f-4eaf-f961-d6707f04047a"
      },
      "execution_count": 8,
      "outputs": [
        {
          "output_type": "stream",
          "name": "stdout",
          "text": [
            "Probabilities of belongs to classes for the test sample:\n",
            "[[0.         1.         0.         ... 0.         0.         0.        ]\n",
            " [0.73117861 0.26882139 0.         ... 0.         0.         0.        ]\n",
            " [0.27814042 0.72185958 0.         ... 0.         0.         0.        ]\n",
            " ...\n",
            " [1.         0.         0.         ... 0.         0.         0.        ]\n",
            " [0.         1.         0.         ... 0.         0.         0.        ]\n",
            " [0.54264548 0.         0.         ... 0.         0.         0.45735452]]\n"
          ]
        }
      ]
    },
    {
      "cell_type": "markdown",
      "source": [
        "Нарисуем графики предсказаний."
      ],
      "metadata": {
        "id": "1K7Tl3Y71Kpm"
      }
    },
    {
      "cell_type": "code",
      "source": [
        "import matplotlib.pyplot as plt\n",
        "import matplotlib.cm as cm\n",
        "\n",
        "unique, freq = np.unique(test_labels, return_counts = True) # Нашли уникальные значения и частоту их появления\n",
        "freq = np.array([x/len(test_labels) for x in freq])\n",
        "# Попробуем предсказать частоту появления уникального значения\n",
        "pred_freq = pred_probability.mean(axis = 0)\n",
        "# print(pred_freq)\n",
        "print(len(unique))\n",
        "# Займёмся визуализацией\n",
        "\n",
        "plt.scatter(range(1, len(unique) + 1), freq, color='coral', label='Реальные частоты', marker='o', s=250, alpha = 0.7)\n",
        "plt.scatter(range(1, len(unique) + 1), pred_freq, color='teal', label='Предсказанные частоты', marker='o', s=250, alpha = 0.7)\n",
        "\n",
        "plt.xlabel('Категории')\n",
        "plt.ylabel('Значения')\n",
        "plt.title('Сравнение частот (точечный график)')\n",
        "plt.xticks(range(1, len(unique) + 1), unique)\n",
        "plt.legend()\n",
        "plt.grid(True)\n",
        "plt.show()"
      ],
      "metadata": {
        "colab": {
          "base_uri": "https://localhost:8080/",
          "height": 489
        },
        "id": "-S2ZdRcC1O_I",
        "outputId": "5e561f42-7820-4c6e-f076-7c002a93d571"
      },
      "execution_count": 25,
      "outputs": [
        {
          "output_type": "stream",
          "name": "stdout",
          "text": [
            "7\n"
          ]
        },
        {
          "output_type": "display_data",
          "data": {
            "text/plain": [
              "<Figure size 640x480 with 1 Axes>"
            ],
            "image/png": "[encoded data removed]"
          },
          "metadata": {}
        }
      ]
    },
    {
      "cell_type": "markdown",
      "source": [
        "Сравним точность моделей KNN и логистической регрессии."
      ],
      "metadata": {
        "id": "HRtQreG50TqW"
      }
    },
    {
      "cell_type": "code",
      "source": [
        "pred_labels = opt_clf.predict(test_feature_matrix)\n",
        "knn_accuracy = accuracy_score(test_labels, pred_labels)\n",
        "print(\"KNN accuracy:\", knn_accuracy)\n",
        "\n",
        "clf = LogisticRegression(C = 1, solver = \"newton-cholesky\")\n",
        "clf.fit(train_feature_matrix, train_labels)\n",
        "y_pred = clf.predict(test_feature_matrix)\n",
        "\n",
        "log_reg_accuracy = accuracy_score(test_labels, y_pred)\n",
        "print(\"Logistic Regression accuracy:\", log_reg_accuracy)\n",
        "print(\"Difference between methods:\", round(abs(knn_accuracy - log_reg_accuracy),5))"
      ],
      "metadata": {
        "colab": {
          "base_uri": "https://localhost:8080/"
        },
        "id": "-r7MiA_n0bpz",
        "outputId": "27500f0c-d63a-444a-c834-58d7aa7a26b7"
      },
      "execution_count": 27,
      "outputs": [
        {
          "output_type": "stream",
          "name": "stdout",
          "text": [
            "KNN accuracy: 0.7845\n",
            "Logistic Regression accuracy: 0.7215\n",
            "Difference between methods: 0.063\n"
          ]
        }
      ]
    },
    {
      "cell_type": "markdown",
      "source": [
        "Заметим, что модель KNN показала точность выше, нежели логистическая регрессия. Таким образом, можем сделать вывод, что KNN классифицирует тестовую выборку лучше логистической регрессии."
      ],
      "metadata": {
        "id": "szmqhmrU1YBc"
      }
    },
    {
      "cell_type": "markdown",
      "source": [
        "Построим ROC-кривую для метода kNN и посчитаем площадь под ней."
      ],
      "metadata": {
        "id": "YQD4YWoE2OY8"
      }
    },
    {
      "cell_type": "code",
      "source": [
        "from sklearn.metrics import roc_curve, auc\n",
        "from sklearn.preprocessing import label_binarize\n",
        "\n",
        "#Бинаризуем классы для ROC-AUC анализа\n",
        "test_labels_bin = label_binarize(test_labels, classes = range(1, len(unique) + 1))\n",
        "n_classes = test_labels_bin.shape[1]\n",
        "\n",
        "#Строим ROC-кривую\n",
        "plt.figure(figsize=(8, 8))\n",
        "\n",
        "#Список для хранения значений AUC для каждого класса\n",
        "roc_auc_values = []\n",
        "\n",
        "for i in range(n_classes):\n",
        "    fpr, tpr, _ = roc_curve(test_labels_bin[:, i], pred_probability[:, i])  #получаем FPR и TPR\n",
        "    roc_auc = auc(fpr, tpr)  #вычисляем AUC для этого класса\n",
        "    roc_auc_values.append(roc_auc)  #сохраняем AUC\n",
        "\n",
        "    # Строим ROC-кривую для каждого класса с отображением AUC в легенде\n",
        "    plt.plot(fpr, tpr, label=f'Class {i} (AUC = {roc_auc:.2f})')\n",
        "\n",
        "# Добавляем диагональ для случайной модели\n",
        "plt.plot([0, 1], [0, 1], 'k--')\n",
        "plt.xlim([0.0, 1.0])\n",
        "plt.ylim([0.0, 1.05])\n",
        "plt.xlabel('False Positive Rate')\n",
        "plt.ylabel('True Positive Rate')\n",
        "plt.title('ROC-кривая для KNN')\n",
        "plt.legend(loc=\"lower right\")\n",
        "plt.show()\n",
        "\n",
        "#Рассчитываем и выводим среднее значение AUC (AUC-ROC)\n",
        "mean_auc = np.mean(roc_auc_values)\n",
        "print(f'Mean AUC (AUC-ROC): {mean_auc:.2f}')"
      ],
      "metadata": {
        "colab": {
          "base_uri": "https://localhost:8080/",
          "height": 735
        },
        "id": "oXOu8n4Z1s2O",
        "outputId": "e81b6dd9-a365-47b1-87d0-dbfe36c602ef"
      },
      "execution_count": 30,
      "outputs": [
        {
          "output_type": "display_data",
          "data": {
            "text/plain": [
              "<Figure size 800x800 with 1 Axes>"
            ],
            "image/png": "[encoded data removed]"
          },
          "metadata": {}
        },
        {
          "output_type": "stream",
          "name": "stdout",
          "text": [
            "Mean AUC (AUC-ROC): 0.91\n"
          ]
        }
      ]
    },
    {
      "cell_type": "markdown",
      "source": [
        "***Анализ применимости метода k-ближайших соседей (KNN)***\n",
        "\n",
        "Метод k-ближайших соседей (KNN) продемонстрировал определенную точность в нашей задаче, однако важно учитывать его зависимость от выбора параметра k (количество соседей) и метрики расстояния. Хотя логистическая регрессия является эффективным инструментом для линейно зависимых данных, в нашем случае KNN показал несколько более высокий результат. Этот факт указывает на присутствие нелинейных зависимостей в данных, которые KNN способен улавливать.\n",
        "\n",
        "\n",
        "Поговорим про преимущества и недостатки KNN.\n",
        "\n",
        "**Преимущества:**\n",
        "\n",
        "*Простота и интуитивность:* Алгоритм KNN легко понять и реализовать.\n",
        "\n",
        "*Нелинейные зависимости:* KNN эффективно работает в условиях, когда данные не имеют линейной структуры.\n",
        "\n",
        "*“Ленивое” обучение:*  Модель не требует этапа обучения в явном виде; она просто хранит обучающие данные, что упрощает процесс.\n",
        "\n",
        "**Недостатки:**\n",
        "\n",
        "*Вычислительная сложность:* Поиск ближайших соседей требует значительного времени, особенно для больших наборов данных.\n",
        "\n",
        "*Чувствительность к параметрам:* Результат сильно зависит от правильного выбора метрики расстояния и количества соседей (k).\n",
        "\n",
        "*Проблемы с многомерностью:* В высокоразмерных пространствах KNN может терять эффективность из-за “проклятия размерности”.\n",
        "\n",
        "*Оценка качества KNN:*\n",
        " Площадь под ROC-кривой (AUC)\n",
        "Для оценки эффективности классификатора KNN используется площадь под ROC-кривой (AUC). AUC показывает, насколько хорошо модель различает классы при различных порогах вероятности.\n",
        "\n",
        "AUC ≈ 1: Идеальный классификатор, отлично разделяющий классы.\n",
        "AUC ≈ 0.5: Модель ведет себя как случайный классификатор.\n",
        "Чем ближе значение AUC к 1, тем выше качество модели KNN в данной задаче. AUC позволяет оценить способность KNN правильно классифицировать объекты, варьируя порог отнесения к тому или иному классу.\n",
        "\n",
        "**Вывод:**\n",
        "Метод k-ближайших соседей может быть полезным инструментом в задачах классификации, особенно при наличии нелинейных зависимостей в данных. Однако необходимо тщательно подходить к выбору параметров k и метрики расстояния, а также учитывать вычислительную сложность алгоритма. В некоторых сценариях логистическая регрессия может оказаться более эффективным и менее ресурсоемким решением. Окончательный выбор между KNN и логистической регрессией, как и выбор любых других алгоритмов машинного обучения, должен основываться на тщательном анализе данных и экспериментальной оценке производительности каждой модели с использованием подходящих метрик качества, таких как AUC."
      ],
      "metadata": {
        "id": "84Q9gEfI3wKk"
      }
    }
  ]
}