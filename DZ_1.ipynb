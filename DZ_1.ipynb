{
  "cells": [
    {
      "cell_type": "markdown",
      "metadata": {
        "id": "view-in-github",
        "colab_type": "text"
      },
      "source": [
        "<a href=\"https://colab.research.google.com/github/DanyaFire/StatPrac/blob/main/DZ_1_ipynb%22.ipynb\" target=\"_parent\"><img src=\"https://colab.research.google.com/assets/colab-badge.svg\" alt=\"Open In Colab\"/></a>"
      ]
    },
    {
      "cell_type": "markdown",
      "metadata": {
        "id": "xw8BD8v2oBGj"
      },
      "source": [
        "# Homework"
      ]
    },
    {
      "cell_type": "markdown",
      "metadata": {
        "id": "sSos7q2_oBGj"
      },
      "source": [
        "## Problem 1"
      ]
    },
    {
      "cell_type": "markdown",
      "metadata": {
        "id": "NiX8ePp0oBGk"
      },
      "source": [
        "Make a tuple containing natural numbers, the square of which is a multiple of 3, 4, but not a multiple of 8 and not exceeding 12345."
      ]
    },
    {
      "cell_type": "code",
      "execution_count": 11,
      "metadata": {
        "id": "XmPHEnS9oBGk",
        "colab": {
          "base_uri": "https://localhost:8080/"
        },
        "outputId": "7cf2a0da-2e45-4bfe-b341-3878fae5d137"
      },
      "outputs": [
        {
          "output_type": "stream",
          "name": "stdout",
          "text": [
            "(6, 18, 30, 42, 54, 66, 78, 90, 102)\n",
            "(6, 18, 30, 42, 54, 66, 78, 90, 102)\n"
          ]
        }
      ],
      "source": [
        "import math\n",
        "\n",
        "nums = tuple([n for n in range(1,int(math.sqrt(12345)) + 1,1) if (n ** 2) % 12 == 0 and (n ** 2) % 8 != 0])\n",
        "print(nums)\n",
        "\n",
        "nums = []\n",
        "n = 1\n",
        "while n ** 2 <= 12345:\n",
        "  if n ** 2 % 12 == 0 and n ** 2 % 8 != 0:\n",
        "    nums.append(n)\n",
        "  n+=1\n",
        "\n",
        "print(tuple(nums))"
      ]
    },
    {
      "cell_type": "markdown",
      "source": [
        "**Комментарий к решению:** генерируем список из нужных чисел, преобразуем в кортеж и выводим. В первом варианте реализации задачки используется библиотека math, из которой был взят квадратный корень, чтобы решение получилось в одну строчку. Во втором варианте решения просто перебираем числа циклом и двумя условиями, запиывая нужные в лист, а при выводе лист преобразуем в кортеж."
      ],
      "metadata": {
        "id": "MNjwByxmtgbZ"
      }
    },
    {
      "cell_type": "markdown",
      "metadata": {
        "id": "OZBeUyxcoBGk"
      },
      "source": [
        "## Problem 2"
      ]
    },
    {
      "cell_type": "markdown",
      "metadata": {
        "id": "zIfvg22noBGk"
      },
      "source": [
        "\n",
        "Write a function that takes a two-dimensional array and a string as input and returns an array rotated 90 degrees counterclockwise if the string 'left' was passed, and clockwise if the string 'right' was passed.\n",
        "\n",
        "Example for input: $\\begin{bmatrix} 1 & 2 & 3 \\\\ 4 & 5 & 6 \\\\ 7 & 8 & 9 \\end{bmatrix}$.\\\n",
        "If the string 'left' is passed, the function should return $\\begin{bmatrix} 3 & 6 & 9 \\\\ 2 & 5 & 8 \\\\ 1 & 4 & 7 \\end{bmatrix}$, and if the string 'right' is passed, the function should return $\\begin{bmatrix} 7 & 4 & 1 \\\\ 8 & 5 & 2 \\\\ 9 & 6 & 3 \\end{bmatrix}$."
      ]
    },
    {
      "cell_type": "code",
      "execution_count": 5,
      "metadata": {
        "id": "HNvy_cRjoBGk",
        "colab": {
          "base_uri": "https://localhost:8080/"
        },
        "outputId": "f9a298c8-8df1-4f25-fb70-77fb87c47e73"
      },
      "outputs": [
        {
          "output_type": "stream",
          "name": "stdout",
          "text": [
            "lef\n",
            "[1, 2, 3]\n",
            "[4, 5, 6]\n",
            "[7, 8, 9]\n"
          ]
        }
      ],
      "source": [
        "def rotation(m,com):\n",
        "  if com == \"left\":\n",
        "    new_order_columns = range(len(m[0])-1,-1,-1)\n",
        "    new_order_rows = range(len(m))\n",
        "  elif com == \"right\":\n",
        "    new_order_columns = range(len(m[0]))\n",
        "    new_order_rows = range(len(m)-1,-1,-1)\n",
        "  else:\n",
        "    return m\n",
        "  return ([[m[i][j] for i in new_order_rows] for j in new_order_columns])"
      ]
    },
    {
      "cell_type": "markdown",
      "source": [
        "**Комментарий к решению:** Функция rotation принимает на вход двумерный массив и команду. Далее, в зависимости от команды, происходит смена порядка нумерации таким образом, чтобы матрица повернулась вправо или влево на 90 градусов. В случае, если команда не будет распознана, то есть будет отличаться от \"left\" и \"right\", функция просто вернёт исходную матрицу."
      ],
      "metadata": {
        "id": "cfOiuVMCY5Wf"
      }
    },
    {
      "cell_type": "code",
      "source": [
        "m = [[1,2,3],\n",
        "     [4,5,6],\n",
        "     [7,8,9]]\n",
        "\n",
        "com = input()\n",
        "\n",
        "for row in rotation(m,com):\n",
        "  print(row)"
      ],
      "metadata": {
        "id": "6q904kpuZlSG"
      },
      "execution_count": null,
      "outputs": []
    },
    {
      "cell_type": "markdown",
      "source": [
        "**Комментарий к решению:** Создаём двумерный массив(лист), получаем на вход команду и дальше просто красиво выводим матрицу, обращаясь к функции rotation."
      ],
      "metadata": {
        "id": "oJIxMKjRZoHu"
      }
    },
    {
      "cell_type": "markdown",
      "metadata": {
        "id": "_dY-PFlCoBGk"
      },
      "source": [
        "## Problem 3"
      ]
    },
    {
      "cell_type": "markdown",
      "metadata": {
        "id": "3CaIwcm0oBGk"
      },
      "source": [
        "Write a function that takes a string as input and returns a dictionary containing the number of occurrences of each character in the string.\n",
        "\n",
        "Example for the string 'hello, world!': {'h': 1, 'e': 1, 'l': 3, 'o': 2, ',': 1, ' ': 1, 'w': 1, 'r': 1, 'd': 1, '!': 1}."
      ]
    },
    {
      "cell_type": "code",
      "execution_count": 12,
      "metadata": {
        "id": "rlSbHusZoBGk",
        "colab": {
          "base_uri": "https://localhost:8080/"
        },
        "outputId": "c94f5286-8e4d-44be-86ef-c7dd1fe8c383"
      },
      "outputs": [
        {
          "output_type": "stream",
          "name": "stdout",
          "text": [
            "Fire\n",
            "{'F': 1, 'i': 1, 'r': 1, 'e': 1}\n"
          ]
        }
      ],
      "source": [
        "def repr(text):\n",
        "    return {char: text.count(char) for char in list(text)}\n",
        "\n",
        "my_string = input()\n",
        "print(repr(my_string))"
      ]
    },
    {
      "cell_type": "markdown",
      "source": [
        "**Комментарий к решению:** Вводим строку, выводим результат работы функции repr, которая возвращает словарь, который содержит в качестве ключей буквы слова, а в качестве значений - число повторов этих букв в слове."
      ],
      "metadata": {
        "id": "9hFgiAEZ8g_z"
      }
    },
    {
      "cell_type": "markdown",
      "metadata": {
        "id": "KBGJ7PeboBGk"
      },
      "source": [
        "## Problem 4"
      ]
    },
    {
      "cell_type": "markdown",
      "metadata": {
        "id": "XS4Seqa9oBGk"
      },
      "source": [
        "### Implementing a Library Management System\n",
        "\n",
        "#### Description\n",
        "\n",
        "You are required to design and implement a system for managing books and users in a library. The system should allow for the management of books (adding, deleting, searching by various criteria) and users (registration, deletion, searching), as well as tracking the history of interactions between them (issuing and returning books).\n",
        "\n",
        "#### Tasks\n",
        "\n",
        "1. **`Book` Class**:\n",
        "   - Attributes: title, author, year of publication, ISBN, number of copies.\n",
        "   - Methods: constructor, methods to get information about the book, method to change the number of copies (when issuing and returning books).\n",
        "\n",
        "2. **`User` Class**:\n",
        "   - Attributes: user name, library card number, list of borrowed books.\n",
        "   - Methods: constructor, methods for user registration, methods for adding and removing books from the borrowed list.\n",
        "\n",
        "3. **`Library` Class**:\n",
        "   - Attributes: list of books, list of users, transaction history (who, when, which book was borrowed and returned).\n",
        "   - Methods: constructor, methods for adding and deleting books and users, methods for issuing and returning books, searching for books and users by various criteria, method to display the transaction history.\n",
        "\n",
        "#### Assignment\n",
        "\n",
        "1. Implement the `Book`, `User`, and `Library` classes with the specified attributes and methods.\n",
        "2. Create several books and users, and add them to the library system.\n",
        "3. Implement scenarios for issuing books to users and their return.\n",
        "4. Display the transaction history to show how books were issued and returned.\n"
      ]
    },
    {
      "cell_type": "code",
      "execution_count": 14,
      "metadata": {
        "id": "IbqwtWWsoBGl",
        "colab": {
          "base_uri": "https://localhost:8080/"
        },
        "outputId": "d12c6839-5eaf-471b-a36d-417f2f5498b6"
      },
      "outputs": [
        {
          "output_type": "stream",
          "name": "stdout",
          "text": [
            "User Alice Smith registered with card number 12345\n",
            "User Bob Johnson registered with card number 67890\n",
            "Book 'The Lord of the Rings' issued to Alice Smith\n",
            "Book 'It' issued to Bob Johnson\n",
            "Book '1984' issued to Alice Smith\n",
            "Book '1984' issued to Alice Smith\n",
            "Book 'The Lord of the Rings' returned by Alice Smith\n",
            "Transaction History:\n",
            "Alice Smith borrowed 'The Lord of the Rings'\n",
            "Bob Johnson borrowed 'It'\n",
            "Alice Smith borrowed '1984'\n",
            "Alice Smith borrowed '1984'\n",
            "Alice Smith returned 'The Lord of the Rings'\n",
            "Alice Smith's borrowed books: ['1984', '1984']\n",
            "Bob Johnson's borrowed books: ['It']\n",
            "\n",
            "Searching for books by title:\n",
            "Title: The Lord of the Rings, author: J.R.R. Tolkien, year of publication: 1954, ISBN: 978-0618260264, numbers of copies: 5\n",
            "\n",
            "Searching for books by author:\n",
            "No books found matching the search criteria.\n",
            "\n",
            "Searching for books by ISBN:\n",
            "Invalid search criteria. Searching by title.\n",
            "No books found matching the search criteria.\n",
            "\n",
            "Searching for a user by name:\n",
            "Name: Alice Smith, Card Number: 12345, Borrowed Books: ['1984', '1984']\n",
            "\n",
            "Searching for a user by card number:\n",
            "Name: Bob Johnson, Card Number: 67890, Borrowed Books: ['It']\n",
            "\n",
            "Remove a book result: False\n",
            "Remove a user result: False\n"
          ]
        }
      ],
      "source": [
        "class Book():\n",
        "\n",
        "  def __init__(self,title, author, year_of_publication, ISBN, copies):\n",
        "    self.title = title\n",
        "    self.author = author\n",
        "    self.year_of_publication = year_of_publication\n",
        "    self.ISBN = ISBN\n",
        "    self.copies = copies\n",
        "\n",
        "  def get_info(self):\n",
        "    return f\"Title: {self.title}, author: {self.author}, year of publication: {self.year_of_publication}, ISBN: {self.ISBN}, numbers of copies: {self.copies}\"\n",
        "\n",
        "  def change_copies(self, amount):\n",
        "      self.copies += amount\n",
        "      if self.copies < 0:\n",
        "        self.copies = 0\n",
        "      return self.copies\n",
        "\n",
        "class User():\n",
        "  def __init__(self, name, card_number):\n",
        "    self.name = name\n",
        "    self.card_number = card_number\n",
        "    self.borrowed_books = []\n",
        "\n",
        "  def register(self):\n",
        "    print(f\"User {self.name} registered with card number {self.card_number}\")\n",
        "\n",
        "  def add_book(self, book):\n",
        "    self.borrowed_books.append(book)\n",
        "\n",
        "  def remove_book(self, book):\n",
        "    if book in self.borrowed_books:\n",
        "      self.borrowed_books.remove(book)\n",
        "    else:\n",
        "      print(f\"User {self.name} has not borrowed {book.title}\")\n",
        "\n",
        "  def get_borrowed_books(self):\n",
        "    return [book.title for book in self.borrowed_books]\n",
        "\n",
        "class Library():\n",
        "  def __init__(self):\n",
        "    self.books = []\n",
        "    self.users = []\n",
        "    self.transaction_history = []\n",
        "\n",
        "  def add_book(self, book):\n",
        "    self.books.append(book)\n",
        "\n",
        "  def remove_book(self, ISBN):\n",
        "    for book in self.books:\n",
        "      if book.ISBN == ISBN:\n",
        "        self.books.remove(book)\n",
        "        return True\n",
        "      return False\n",
        "\n",
        "  def add_user(self, user):\n",
        "    self.users.append(user)\n",
        "\n",
        "  def remove_user(self, card_number):\n",
        "    for user in self.users:\n",
        "      if user.card_number == card_number:\n",
        "        self.users.remove(user)\n",
        "        return True\n",
        "      return False\n",
        "\n",
        "  def issue_book(self, user, book):\n",
        "    if book in self.books and book.copies > 0:\n",
        "      book.change_copies(-1)\n",
        "      user.add_book(book)\n",
        "      self.transaction_history.append(f\"{user.name} borrowed '{book.title}'\")\n",
        "      print(f\"Book '{book.title}' issued to {user.name}\")\n",
        "    else:\n",
        "      print(f\"Book '{book.title}' is not available\")\n",
        "\n",
        "  def return_book(self, user, book):\n",
        "    if book in self.books and book in user.borrowed_books:\n",
        "      book.change_copies(1)\n",
        "      user.remove_book(book)\n",
        "      self.transaction_history.append(f\"{user.name} returned '{book.title}'\")\n",
        "      print(f\"Book '{book.title}' returned by {user.name}\")\n",
        "    else:\n",
        "      print(f\"Book '{book.title}' cannot be returned\")\n",
        "\n",
        "  def search_book(self, query, search_by=\"title\"):\n",
        "      results = []\n",
        "      if search_by == \"title\":\n",
        "        results = [book for book in self.books if query.lower() in book.title.lower()]\n",
        "      elif search_by == \"author\":\n",
        "        results = [book for book in self.books if query.lower() in book.author.lower()]\n",
        "      elif search_by == \"ISBN\":\n",
        "        results = [book for book in self.books if query == book.ISBN]\n",
        "      else:\n",
        "        print(\"Invalid search criteria. Searching by title.\")\n",
        "        results = [book for book in self.books if query.lower() in book.title.lower()]\n",
        "\n",
        "      if results:\n",
        "        for book in results:\n",
        "          print(book.get_info())\n",
        "      else:\n",
        "        print(\"No books found matching the search criteria.\")\n",
        "      return results\n",
        "\n",
        "  def search_user(self, query, search_by=\"name\"):\n",
        "        results = []\n",
        "        if search_by == \"name\":\n",
        "          results = [user for user in self.users if query.lower() in user.name.lower()]\n",
        "        elif search_by == \"card_number\":\n",
        "          results = [user for user in self.users if query == user.card_number]\n",
        "        else:\n",
        "          print(\"Invalid search criteria. Searching by name.\")\n",
        "          results = [user for user in self.users if query.lower() in user.name.lower()]\n",
        "\n",
        "        if results:\n",
        "          for user in results:\n",
        "            print(f\"Name: {user.name}, Card Number: {user.card_number}, Borrowed Books: {user.get_borrowed_books()}\")\n",
        "        else:\n",
        "          print(\"No users found matching the search criteria.\")\n",
        "        return results\n",
        "\n",
        "  def display_transaction_history(self):\n",
        "    print(\"Transaction History:\")\n",
        "    for transaction in self.transaction_history:\n",
        "      print(transaction)\n",
        "\n",
        "\n",
        "library = Library()\n",
        "\n",
        "# Creating books\n",
        "book1 = Book(\"The Lord of the Rings\", \"J.R.R. Tolkien\", 1954, \"978-0618260264\", 5)\n",
        "book2 = Book(\"It\", \"Stewen King\", 1986, \"978-0141439518\", 3)\n",
        "book3 = Book(\"1984\", \"George Orwell\", 1949, \"978-0451524935\", 2)\n",
        "\n",
        "# Adding books to library\n",
        "library.add_book(book1)\n",
        "library.add_book(book2)\n",
        "library.add_book(book3)\n",
        "\n",
        "# Creating users\n",
        "user1 = User(\"Alice Smith\", \"12345\")\n",
        "user2 = User(\"Bob Johnson\", \"67890\")\n",
        "\n",
        "# Adding users to library\n",
        "library.add_user(user1)\n",
        "library.add_user(user2)\n",
        "\n",
        "# Registering users\n",
        "user1.register()\n",
        "user2.register()\n",
        "\n",
        "# Issuing books\n",
        "library.issue_book(user1, book1)\n",
        "library.issue_book(user2, book2)\n",
        "library.issue_book(user1, book3)  #Alice borrows another book\n",
        "\n",
        "# Trying to issue the same book again when no copies available\n",
        "library.issue_book(user1, book3)\n",
        "\n",
        "# Returning books\n",
        "library.return_book(user1, book1)\n",
        "\n",
        "# Displaying transaction history\n",
        "library.display_transaction_history()\n",
        "\n",
        "# Displaying user's borrowed books\n",
        "print(f\"{user1.name}'s borrowed books: {user1.get_borrowed_books()}\")\n",
        "print(f\"{user2.name}'s borrowed books: {user2.get_borrowed_books()}\")\n",
        "\n",
        "# Searching for books\n",
        "print(\"\\nSearching for books by title:\")\n",
        "library.search_book(\"Lord\")\n",
        "\n",
        "print(\"\\nSearching for books by author:\")\n",
        "library.search_book(\"Austen\", search_by=\"author\")\n",
        "\n",
        "print(\"\\nSearching for books by ISBN:\")\n",
        "library.search_book(\"978-0451524935\", search_by=\"isbn\")\n",
        "\n",
        "print(\"\\nSearching for a user by name:\")\n",
        "library.search_user(\"Alice\")\n",
        "\n",
        "print(\"\\nSearching for a user by card number:\")\n",
        "library.search_user(\"67890\", search_by=\"card_number\")\n",
        "\n",
        "#Attempt to remove non-existent book and user\n",
        "print(f\"\\nRemove a book result: {library.remove_book('FakeISBN')}\") # Remove a non-existent book\n",
        "print(f\"Remove a user result: {library.remove_user('FakeCard')}\")   # Remove a non-existent user\n",
        "\n"
      ]
    },
    {
      "cell_type": "markdown",
      "metadata": {
        "id": "0c8zRbSIoBGl"
      },
      "source": [
        "## Problem 5*"
      ]
    },
    {
      "cell_type": "markdown",
      "metadata": {
        "id": "8ltdzRmOoBGl"
      },
      "source": [
        "Explain why list `b` changes after the execution of the following code:\n",
        "\n",
        "```python\n",
        "a = [1, 2, 3]\n",
        "b = a\n",
        "a[0] = 4\n",
        "print(b)\n",
        "```"
      ]
    },
    {
      "cell_type": "markdown",
      "metadata": {
        "id": "RxgnUfFPoBGl"
      },
      "source": [
        "> Write your answer in markdown cell after: Причина, по которой список b изменяется после изменения списка a, связана с тем, что при b = a не создается новая независимая копия списка. Вместо этого он создает новую ссылку на тот же объект list в памяти. Оба a и b теперь просто разные имена, указывающие на один и тот же список."
      ]
    },
    {
      "cell_type": "markdown",
      "metadata": {
        "id": "Mb-amOX5oBGl"
      },
      "source": []
    },
    {
      "cell_type": "markdown",
      "metadata": {
        "id": "TmXLkc_foBGl"
      },
      "source": [
        "## Problem 6*"
      ]
    },
    {
      "cell_type": "markdown",
      "metadata": {
        "id": "Gn0ibiVCoBGl"
      },
      "source": [
        "Let\n",
        "$$A = \\sum_{i=1}^{10000} \\frac{1}{i^2},\\quad B=\\sum_{i=10000}^{1} \\frac{1}{i^2}.$$\n",
        "Calculate the values of $A$ and $B$ and compare them. What do you observe? Explain why this happens. What is the best way to calculate the value of $\\sum\\limits_{i=1}^{10000} \\dfrac{1}{i^2}$?"
      ]
    },
    {
      "cell_type": "code",
      "execution_count": 18,
      "metadata": {
        "id": "3q93uGqFoBGl",
        "colab": {
          "base_uri": "https://localhost:8080/"
        },
        "outputId": "fe6aa6bf-b6e7-474a-a6b2-b1b26cf21d20"
      },
      "outputs": [
        {
          "output_type": "stream",
          "name": "stdout",
          "text": [
            "Сумма с возрастающими индексами: 1.6448340718480652\n",
            "Сумма с убывающими индексами: 1.6448340718480596\n"
          ]
        }
      ],
      "source": [
        "print(f\"Сумма с возрастающими индексами: {(sum(1/i ** 2 for i in range(1,10001)))}\")\n",
        "print(f\"Сумма с убывающими индексами: {(sum(1/i ** 2 for i in range(10000,0,-1)))}\")"
      ]
    },
    {
      "cell_type": "markdown",
      "source": [
        "Честно говоря, пока не до конца понял, почему оно так работает. Есть подозрения на то, что такой перфоманс связан с погрешностью чисел с плавающей точкой, так как при арифметических действиях с числами типа float происходят некоторые округления, поэтому погрешность с каждой итерацией накапливается и растёт."
      ],
      "metadata": {
        "id": "HMK5lKg5dJ-D"
      }
    }
  ],
  "metadata": {
    "colab": {
      "provenance": [],
      "include_colab_link": true
    },
    "kernelspec": {
      "display_name": "Python 3",
      "language": "python",
      "name": "python3"
    },
    "language_info": {
      "codemirror_mode": {
        "name": "ipython",
        "version": 3
      },
      "file_extension": ".py",
      "mimetype": "text/x-python",
      "name": "python",
      "nbconvert_exporter": "python",
      "pygments_lexer": "ipython3",
      "version": "3.10.6"
    }
  },
  "nbformat": 4,
  "nbformat_minor": 0
}
